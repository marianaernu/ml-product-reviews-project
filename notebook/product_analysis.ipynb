{
  "nbformat": 4,
  "nbformat_minor": 0,
  "metadata": {
    "colab": {
      "provenance": [],
      "authorship_tag": "ABX9TyOQshkvmMGTqoNUGKkLxMyY",
      "include_colab_link": true
    },
    "kernelspec": {
      "name": "python3",
      "display_name": "Python 3"
    },
    "language_info": {
      "name": "python"
    }
  },
  "cells": [
    {
      "cell_type": "markdown",
      "metadata": {
        "id": "view-in-github",
        "colab_type": "text"
      },
      "source": [
        "<a href=\"https://colab.research.google.com/github/marianaernu/ml-product-reviews-project/blob/main/notebook/product_analysis.ipynb\" target=\"_parent\"><img src=\"https://colab.research.google.com/assets/colab-badge.svg\" alt=\"Open In Colab\"/></a>"
      ]
    },
    {
      "cell_type": "markdown",
      "source": [
        "# Predictia categoriei produsului"
      ],
      "metadata": {
        "id": "S1OFDVuUPpYN"
      }
    },
    {
      "cell_type": "markdown",
      "source": [
        "## 1. Incarcarea dataset-ului din Github"
      ],
      "metadata": {
        "id": "He6YRui-P1zl"
      }
    },
    {
      "cell_type": "code",
      "execution_count": 2,
      "metadata": {
        "colab": {
          "base_uri": "https://localhost:8080/"
        },
        "id": "9DXu7R2we41L",
        "outputId": "9c7b0a06-0e1c-4e74-f92a-c985790e58b7"
      },
      "outputs": [
        {
          "output_type": "stream",
          "name": "stdout",
          "text": [
            "Number of rows: 35311\n",
            "First 5 rows:\n",
            "   product ID                                      Product Title  Merchant ID  \\\n",
            "0           1                    apple iphone 8 plus 64gb silver            1   \n",
            "1           2                apple iphone 8 plus 64 gb spacegrau            2   \n",
            "2           3  apple mq8n2b/a iphone 8 plus 64gb 5.5 12mp sim...            3   \n",
            "3           4                apple iphone 8 plus 64gb space grey            4   \n",
            "4           5  apple iphone 8 plus gold 5.5 64gb 4g unlocked ...            5   \n",
            "\n",
            "   Category Label _Product Code  Number_of_Views  Merchant Rating  \\\n",
            "0   Mobile Phones    QA-2276-XC            860.0              2.5   \n",
            "1   Mobile Phones    KA-2501-QO           3772.0              4.8   \n",
            "2   Mobile Phones    FP-8086-IE           3092.0              3.9   \n",
            "3   Mobile Phones    YI-0086-US            466.0              3.4   \n",
            "4   Mobile Phones    NZ-3586-WP           4426.0              1.6   \n",
            "\n",
            "   Listing Date    \n",
            "0       5/10/2024  \n",
            "1      12/31/2024  \n",
            "2      11/10/2024  \n",
            "3        5/2/2022  \n",
            "4       4/12/2023  \n"
          ]
        }
      ],
      "source": [
        "import pandas as pd\n",
        "\n",
        "\n",
        "url = \"https://raw.githubusercontent.com/marianaernu/ml-product-reviews-project/main/data/products.csv\"\n",
        "\n",
        "df = pd.read_csv(url)\n",
        "print(\"Number of rows:\", len(df))\n",
        "print(\"First 5 rows:\")\n",
        "print(df.head())"
      ]
    },
    {
      "cell_type": "markdown",
      "source": [
        "## 2. Curățarea coloanelor (eliminarea spațiilor)"
      ],
      "metadata": {
        "id": "ly6PuI6SQM9z"
      }
    },
    {
      "cell_type": "code",
      "source": [
        "# Eliminăm spațiile din capul coloanelor\n",
        "df.columns = [c.strip() for c in df.columns]\n",
        "\n",
        "print(\"Coloanele dataset-ului:\", df.columns)"
      ],
      "metadata": {
        "colab": {
          "base_uri": "https://localhost:8080/"
        },
        "id": "asqk90dxQSnJ",
        "outputId": "c1f7a43a-9ec5-4ddb-a909-3b026aaeb373"
      },
      "execution_count": 3,
      "outputs": [
        {
          "output_type": "stream",
          "name": "stdout",
          "text": [
            "Coloanele dataset-ului: Index(['product ID', 'Product Title', 'Merchant ID', 'Category Label',\n",
            "       '_Product Code', 'Number_of_Views', 'Merchant Rating', 'Listing Date'],\n",
            "      dtype='object')\n"
          ]
        }
      ]
    },
    {
      "cell_type": "markdown",
      "source": [
        "## 3. Curatarea titlurilor produselor"
      ],
      "metadata": {
        "id": "uLlNKgS7QfmW"
      }
    },
    {
      "cell_type": "code",
      "source": [
        "import re\n",
        "\n",
        "def clean_title(s):\n",
        "    if pd.isna(s):\n",
        "        return \"\"\n",
        "    s = str(s).lower()\n",
        "    s = re.sub(r\"[^a-z0-9\\u00C0-\\u017F\\s\\-\\_\\.]\", \" \", s)\n",
        "    s = re.sub(r\"\\s+\", \" \", s).strip()\n",
        "    return s\n",
        "\n",
        "# Aplicăm curățarea\n",
        "df['clean_title'] = df['Product Title'].apply(clean_title)\n",
        "\n",
        "df[['Product Title', 'clean_title']].head()"
      ],
      "metadata": {
        "colab": {
          "base_uri": "https://localhost:8080/",
          "height": 206
        },
        "id": "FFoOOqDoQpfz",
        "outputId": "2a5c7c7d-e46f-4a89-ab7d-64f4ceee9336"
      },
      "execution_count": 4,
      "outputs": [
        {
          "output_type": "execute_result",
          "data": {
            "text/plain": [
              "                                       Product Title  \\\n",
              "0                    apple iphone 8 plus 64gb silver   \n",
              "1                apple iphone 8 plus 64 gb spacegrau   \n",
              "2  apple mq8n2b/a iphone 8 plus 64gb 5.5 12mp sim...   \n",
              "3                apple iphone 8 plus 64gb space grey   \n",
              "4  apple iphone 8 plus gold 5.5 64gb 4g unlocked ...   \n",
              "\n",
              "                                         clean_title  \n",
              "0                    apple iphone 8 plus 64gb silver  \n",
              "1                apple iphone 8 plus 64 gb spacegrau  \n",
              "2  apple mq8n2b a iphone 8 plus 64gb 5.5 12mp sim...  \n",
              "3                apple iphone 8 plus 64gb space grey  \n",
              "4  apple iphone 8 plus gold 5.5 64gb 4g unlocked ...  "
            ],
            "text/html": [
              "\n",
              "  <div id=\"df-2b76c1b4-bdd2-46e3-81b4-020c8f4e079a\" class=\"colab-df-container\">\n",
              "    <div>\n",
              "<style scoped>\n",
              "    .dataframe tbody tr th:only-of-type {\n",
              "        vertical-align: middle;\n",
              "    }\n",
              "\n",
              "    .dataframe tbody tr th {\n",
              "        vertical-align: top;\n",
              "    }\n",
              "\n",
              "    .dataframe thead th {\n",
              "        text-align: right;\n",
              "    }\n",
              "</style>\n",
              "<table border=\"1\" class=\"dataframe\">\n",
              "  <thead>\n",
              "    <tr style=\"text-align: right;\">\n",
              "      <th></th>\n",
              "      <th>Product Title</th>\n",
              "      <th>clean_title</th>\n",
              "    </tr>\n",
              "  </thead>\n",
              "  <tbody>\n",
              "    <tr>\n",
              "      <th>0</th>\n",
              "      <td>apple iphone 8 plus 64gb silver</td>\n",
              "      <td>apple iphone 8 plus 64gb silver</td>\n",
              "    </tr>\n",
              "    <tr>\n",
              "      <th>1</th>\n",
              "      <td>apple iphone 8 plus 64 gb spacegrau</td>\n",
              "      <td>apple iphone 8 plus 64 gb spacegrau</td>\n",
              "    </tr>\n",
              "    <tr>\n",
              "      <th>2</th>\n",
              "      <td>apple mq8n2b/a iphone 8 plus 64gb 5.5 12mp sim...</td>\n",
              "      <td>apple mq8n2b a iphone 8 plus 64gb 5.5 12mp sim...</td>\n",
              "    </tr>\n",
              "    <tr>\n",
              "      <th>3</th>\n",
              "      <td>apple iphone 8 plus 64gb space grey</td>\n",
              "      <td>apple iphone 8 plus 64gb space grey</td>\n",
              "    </tr>\n",
              "    <tr>\n",
              "      <th>4</th>\n",
              "      <td>apple iphone 8 plus gold 5.5 64gb 4g unlocked ...</td>\n",
              "      <td>apple iphone 8 plus gold 5.5 64gb 4g unlocked ...</td>\n",
              "    </tr>\n",
              "  </tbody>\n",
              "</table>\n",
              "</div>\n",
              "    <div class=\"colab-df-buttons\">\n",
              "\n",
              "  <div class=\"colab-df-container\">\n",
              "    <button class=\"colab-df-convert\" onclick=\"convertToInteractive('df-2b76c1b4-bdd2-46e3-81b4-020c8f4e079a')\"\n",
              "            title=\"Convert this dataframe to an interactive table.\"\n",
              "            style=\"display:none;\">\n",
              "\n",
              "  <svg xmlns=\"http://www.w3.org/2000/svg\" height=\"24px\" viewBox=\"0 -960 960 960\">\n",
              "    <path d=\"M120-120v-720h720v720H120Zm60-500h600v-160H180v160Zm220 220h160v-160H400v160Zm0 220h160v-160H400v160ZM180-400h160v-160H180v160Zm440 0h160v-160H620v160ZM180-180h160v-160H180v160Zm440 0h160v-160H620v160Z\"/>\n",
              "  </svg>\n",
              "    </button>\n",
              "\n",
              "  <style>\n",
              "    .colab-df-container {\n",
              "      display:flex;\n",
              "      gap: 12px;\n",
              "    }\n",
              "\n",
              "    .colab-df-convert {\n",
              "      background-color: #E8F0FE;\n",
              "      border: none;\n",
              "      border-radius: 50%;\n",
              "      cursor: pointer;\n",
              "      display: none;\n",
              "      fill: #1967D2;\n",
              "      height: 32px;\n",
              "      padding: 0 0 0 0;\n",
              "      width: 32px;\n",
              "    }\n",
              "\n",
              "    .colab-df-convert:hover {\n",
              "      background-color: #E2EBFA;\n",
              "      box-shadow: 0px 1px 2px rgba(60, 64, 67, 0.3), 0px 1px 3px 1px rgba(60, 64, 67, 0.15);\n",
              "      fill: #174EA6;\n",
              "    }\n",
              "\n",
              "    .colab-df-buttons div {\n",
              "      margin-bottom: 4px;\n",
              "    }\n",
              "\n",
              "    [theme=dark] .colab-df-convert {\n",
              "      background-color: #3B4455;\n",
              "      fill: #D2E3FC;\n",
              "    }\n",
              "\n",
              "    [theme=dark] .colab-df-convert:hover {\n",
              "      background-color: #434B5C;\n",
              "      box-shadow: 0px 1px 3px 1px rgba(0, 0, 0, 0.15);\n",
              "      filter: drop-shadow(0px 1px 2px rgba(0, 0, 0, 0.3));\n",
              "      fill: #FFFFFF;\n",
              "    }\n",
              "  </style>\n",
              "\n",
              "    <script>\n",
              "      const buttonEl =\n",
              "        document.querySelector('#df-2b76c1b4-bdd2-46e3-81b4-020c8f4e079a button.colab-df-convert');\n",
              "      buttonEl.style.display =\n",
              "        google.colab.kernel.accessAllowed ? 'block' : 'none';\n",
              "\n",
              "      async function convertToInteractive(key) {\n",
              "        const element = document.querySelector('#df-2b76c1b4-bdd2-46e3-81b4-020c8f4e079a');\n",
              "        const dataTable =\n",
              "          await google.colab.kernel.invokeFunction('convertToInteractive',\n",
              "                                                    [key], {});\n",
              "        if (!dataTable) return;\n",
              "\n",
              "        const docLinkHtml = 'Like what you see? Visit the ' +\n",
              "          '<a target=\"_blank\" href=https://colab.research.google.com/notebooks/data_table.ipynb>data table notebook</a>'\n",
              "          + ' to learn more about interactive tables.';\n",
              "        element.innerHTML = '';\n",
              "        dataTable['output_type'] = 'display_data';\n",
              "        await google.colab.output.renderOutput(dataTable, element);\n",
              "        const docLink = document.createElement('div');\n",
              "        docLink.innerHTML = docLinkHtml;\n",
              "        element.appendChild(docLink);\n",
              "      }\n",
              "    </script>\n",
              "  </div>\n",
              "\n",
              "\n",
              "    <div id=\"df-2aa9ca9e-d54c-4955-be54-6a485e7d1654\">\n",
              "      <button class=\"colab-df-quickchart\" onclick=\"quickchart('df-2aa9ca9e-d54c-4955-be54-6a485e7d1654')\"\n",
              "                title=\"Suggest charts\"\n",
              "                style=\"display:none;\">\n",
              "\n",
              "<svg xmlns=\"http://www.w3.org/2000/svg\" height=\"24px\"viewBox=\"0 0 24 24\"\n",
              "     width=\"24px\">\n",
              "    <g>\n",
              "        <path d=\"M19 3H5c-1.1 0-2 .9-2 2v14c0 1.1.9 2 2 2h14c1.1 0 2-.9 2-2V5c0-1.1-.9-2-2-2zM9 17H7v-7h2v7zm4 0h-2V7h2v10zm4 0h-2v-4h2v4z\"/>\n",
              "    </g>\n",
              "</svg>\n",
              "      </button>\n",
              "\n",
              "<style>\n",
              "  .colab-df-quickchart {\n",
              "      --bg-color: #E8F0FE;\n",
              "      --fill-color: #1967D2;\n",
              "      --hover-bg-color: #E2EBFA;\n",
              "      --hover-fill-color: #174EA6;\n",
              "      --disabled-fill-color: #AAA;\n",
              "      --disabled-bg-color: #DDD;\n",
              "  }\n",
              "\n",
              "  [theme=dark] .colab-df-quickchart {\n",
              "      --bg-color: #3B4455;\n",
              "      --fill-color: #D2E3FC;\n",
              "      --hover-bg-color: #434B5C;\n",
              "      --hover-fill-color: #FFFFFF;\n",
              "      --disabled-bg-color: #3B4455;\n",
              "      --disabled-fill-color: #666;\n",
              "  }\n",
              "\n",
              "  .colab-df-quickchart {\n",
              "    background-color: var(--bg-color);\n",
              "    border: none;\n",
              "    border-radius: 50%;\n",
              "    cursor: pointer;\n",
              "    display: none;\n",
              "    fill: var(--fill-color);\n",
              "    height: 32px;\n",
              "    padding: 0;\n",
              "    width: 32px;\n",
              "  }\n",
              "\n",
              "  .colab-df-quickchart:hover {\n",
              "    background-color: var(--hover-bg-color);\n",
              "    box-shadow: 0 1px 2px rgba(60, 64, 67, 0.3), 0 1px 3px 1px rgba(60, 64, 67, 0.15);\n",
              "    fill: var(--button-hover-fill-color);\n",
              "  }\n",
              "\n",
              "  .colab-df-quickchart-complete:disabled,\n",
              "  .colab-df-quickchart-complete:disabled:hover {\n",
              "    background-color: var(--disabled-bg-color);\n",
              "    fill: var(--disabled-fill-color);\n",
              "    box-shadow: none;\n",
              "  }\n",
              "\n",
              "  .colab-df-spinner {\n",
              "    border: 2px solid var(--fill-color);\n",
              "    border-color: transparent;\n",
              "    border-bottom-color: var(--fill-color);\n",
              "    animation:\n",
              "      spin 1s steps(1) infinite;\n",
              "  }\n",
              "\n",
              "  @keyframes spin {\n",
              "    0% {\n",
              "      border-color: transparent;\n",
              "      border-bottom-color: var(--fill-color);\n",
              "      border-left-color: var(--fill-color);\n",
              "    }\n",
              "    20% {\n",
              "      border-color: transparent;\n",
              "      border-left-color: var(--fill-color);\n",
              "      border-top-color: var(--fill-color);\n",
              "    }\n",
              "    30% {\n",
              "      border-color: transparent;\n",
              "      border-left-color: var(--fill-color);\n",
              "      border-top-color: var(--fill-color);\n",
              "      border-right-color: var(--fill-color);\n",
              "    }\n",
              "    40% {\n",
              "      border-color: transparent;\n",
              "      border-right-color: var(--fill-color);\n",
              "      border-top-color: var(--fill-color);\n",
              "    }\n",
              "    60% {\n",
              "      border-color: transparent;\n",
              "      border-right-color: var(--fill-color);\n",
              "    }\n",
              "    80% {\n",
              "      border-color: transparent;\n",
              "      border-right-color: var(--fill-color);\n",
              "      border-bottom-color: var(--fill-color);\n",
              "    }\n",
              "    90% {\n",
              "      border-color: transparent;\n",
              "      border-bottom-color: var(--fill-color);\n",
              "    }\n",
              "  }\n",
              "</style>\n",
              "\n",
              "      <script>\n",
              "        async function quickchart(key) {\n",
              "          const quickchartButtonEl =\n",
              "            document.querySelector('#' + key + ' button');\n",
              "          quickchartButtonEl.disabled = true;  // To prevent multiple clicks.\n",
              "          quickchartButtonEl.classList.add('colab-df-spinner');\n",
              "          try {\n",
              "            const charts = await google.colab.kernel.invokeFunction(\n",
              "                'suggestCharts', [key], {});\n",
              "          } catch (error) {\n",
              "            console.error('Error during call to suggestCharts:', error);\n",
              "          }\n",
              "          quickchartButtonEl.classList.remove('colab-df-spinner');\n",
              "          quickchartButtonEl.classList.add('colab-df-quickchart-complete');\n",
              "        }\n",
              "        (() => {\n",
              "          let quickchartButtonEl =\n",
              "            document.querySelector('#df-2aa9ca9e-d54c-4955-be54-6a485e7d1654 button');\n",
              "          quickchartButtonEl.style.display =\n",
              "            google.colab.kernel.accessAllowed ? 'block' : 'none';\n",
              "        })();\n",
              "      </script>\n",
              "    </div>\n",
              "\n",
              "    </div>\n",
              "  </div>\n"
            ],
            "application/vnd.google.colaboratory.intrinsic+json": {
              "type": "dataframe",
              "summary": "{\n  \"name\": \"df[['Product Title', 'clean_title']]\",\n  \"rows\": 5,\n  \"fields\": [\n    {\n      \"column\": \"Product Title\",\n      \"properties\": {\n        \"dtype\": \"string\",\n        \"num_unique_values\": 5,\n        \"samples\": [\n          \"apple iphone 8 plus 64 gb spacegrau\",\n          \"apple iphone 8 plus gold 5.5 64gb 4g unlocked sim free\",\n          \"apple mq8n2b/a iphone 8 plus 64gb 5.5 12mp sim free smartphone in gold\"\n        ],\n        \"semantic_type\": \"\",\n        \"description\": \"\"\n      }\n    },\n    {\n      \"column\": \"clean_title\",\n      \"properties\": {\n        \"dtype\": \"string\",\n        \"num_unique_values\": 5,\n        \"samples\": [\n          \"apple iphone 8 plus 64 gb spacegrau\",\n          \"apple iphone 8 plus gold 5.5 64gb 4g unlocked sim free\",\n          \"apple mq8n2b a iphone 8 plus 64gb 5.5 12mp sim free smartphone in gold\"\n        ],\n        \"semantic_type\": \"\",\n        \"description\": \"\"\n      }\n    }\n  ]\n}"
            }
          },
          "metadata": {},
          "execution_count": 4
        }
      ]
    },
    {
      "cell_type": "markdown",
      "source": [
        "## 3.1 Curatarea randurilor cu valori lipsa:"
      ],
      "metadata": {
        "id": "k0_4HnFwSQQz"
      }
    },
    {
      "cell_type": "code",
      "source": [
        "# Eliminăm rândurile care au NaN în Category Label sau clean_title\n",
        "df = df.dropna(subset=['Category Label', 'clean_title'])\n",
        "\n",
        "print(\"Număr rânduri după curățare:\", len(df))"
      ],
      "metadata": {
        "colab": {
          "base_uri": "https://localhost:8080/"
        },
        "id": "UCls9ACTSWZA",
        "outputId": "aeb34b7c-0586-4e12-cb32-46fc766d179f"
      },
      "execution_count": 7,
      "outputs": [
        {
          "output_type": "stream",
          "name": "stdout",
          "text": [
            "Număr rânduri după curățare: 35267\n"
          ]
        }
      ]
    },
    {
      "cell_type": "markdown",
      "source": [
        "## 4. Analiza datelor: top categorii"
      ],
      "metadata": {
        "id": "VTRZCCuVQ8LY"
      }
    },
    {
      "cell_type": "code",
      "source": [
        "import matplotlib.pyplot as plt\n",
        "\n",
        "plt.figure(figsize=(10,5))\n",
        "df['Category Label'].value_counts().head(10).plot(kind='bar')\n",
        "plt.title(\"Top 10 categorii de produse\")\n",
        "plt.xlabel(\"Categorie\")\n",
        "plt.ylabel(\"Număr produse\")\n",
        "plt.show()"
      ],
      "metadata": {
        "colab": {
          "base_uri": "https://localhost:8080/",
          "height": 602
        },
        "id": "eIColwKKRCQL",
        "outputId": "745535c7-7b6d-45d4-a0a0-405dce21c7bb"
      },
      "execution_count": 5,
      "outputs": [
        {
          "output_type": "display_data",
          "data": {
            "text/plain": [
              "<Figure size 1000x500 with 1 Axes>"
            ],
            "image/png": "[encoded data removed]"
          },
          "metadata": {}
        }
      ]
    },
    {
      "cell_type": "markdown",
      "source": [
        "## 5. Împărțirea dataset-ului în train și test"
      ],
      "metadata": {
        "id": "Nh47rmjNRUxI"
      }
    },
    {
      "cell_type": "code",
      "source": [
        "from sklearn.model_selection import train_test_split\n",
        "\n",
        "X = df['clean_title']\n",
        "y = df['Category Label']\n",
        "\n",
        "X_train, X_test, y_train, y_test = train_test_split(\n",
        "    X, y, test_size=0.2, stratify=y, random_state=42\n",
        ")\n",
        "\n",
        "print(\"Dimensiunea setului de antrenament:\", len(X_train))\n",
        "print(\"Dimensiunea setului de test:\", len(X_test))"
      ],
      "metadata": {
        "colab": {
          "base_uri": "https://localhost:8080/"
        },
        "id": "0-bLZu2-Rcav",
        "outputId": "adc3aec1-b0de-400f-866a-ef618d024f8b"
      },
      "execution_count": 8,
      "outputs": [
        {
          "output_type": "stream",
          "name": "stdout",
          "text": [
            "Dimensiunea setului de antrenament: 28213\n",
            "Dimensiunea setului de test: 7054\n"
          ]
        }
      ]
    },
    {
      "cell_type": "markdown",
      "source": [
        "## 6. Vectorizare TF-IDF"
      ],
      "metadata": {
        "id": "JhyJBnhEVun4"
      }
    },
    {
      "cell_type": "code",
      "source": [
        "from sklearn.feature_extraction.text import TfidfVectorizer\n",
        "\n",
        "vectorizer = TfidfVectorizer(max_features=30000, ngram_range=(1,2))\n",
        "X_train_vec = vectorizer.fit_transform(X_train)\n",
        "X_test_vec = vectorizer.transform(X_test)\n",
        "\n",
        "print(\"Dimensiunea matricei TF-IDF:\", X_train_vec.shape)"
      ],
      "metadata": {
        "colab": {
          "base_uri": "https://localhost:8080/"
        },
        "id": "V-bgQRH3V2V-",
        "outputId": "66093bcd-312b-4b9a-bbe8-f63f9d7ba8dd"
      },
      "execution_count": 9,
      "outputs": [
        {
          "output_type": "stream",
          "name": "stdout",
          "text": [
            "Dimensiunea matricei TF-IDF: (28213, 30000)\n"
          ]
        }
      ]
    },
    {
      "cell_type": "markdown",
      "source": [
        "## 7. Antrenarea modelului Logistic Regression"
      ],
      "metadata": {
        "id": "zvGKccaNWJJc"
      }
    },
    {
      "cell_type": "code",
      "source": [
        "from sklearn.linear_model import LogisticRegression\n",
        "from sklearn.metrics import accuracy_score, classification_report\n",
        "\n",
        "model = LogisticRegression(max_iter=1000, solver=\"saga\", n_jobs=-1)\n",
        "model.fit(X_train_vec, y_train)\n",
        "\n",
        "y_pred = model.predict(X_test_vec)\n",
        "\n",
        "print(\"Accuracy:\", round(accuracy_score(y_test, y_pred), 4))\n",
        "print(\"\\nClassification Report:\\n\", classification_report(y_test, y_pred, zero_division=0))"
      ],
      "metadata": {
        "colab": {
          "base_uri": "https://localhost:8080/"
        },
        "id": "egArkunbWU-B",
        "outputId": "87703eb4-d79a-4bfd-db3b-a5be3f9bb50b"
      },
      "execution_count": 10,
      "outputs": [
        {
          "output_type": "stream",
          "name": "stdout",
          "text": [
            "Accuracy: 0.946\n",
            "\n",
            "Classification Report:\n",
            "                   precision    recall  f1-score   support\n",
            "\n",
            "             CPU       0.00      0.00      0.00        17\n",
            "            CPUs       0.98      0.99      0.98       754\n",
            " Digital Cameras       0.99      0.99      0.99       539\n",
            "     Dishwashers       0.95      0.94      0.94       684\n",
            "        Freezers       0.98      0.88      0.93       442\n",
            " Fridge Freezers       0.92      0.94      0.93      1099\n",
            "         Fridges       0.86      0.90      0.88       691\n",
            "      Microwaves       1.00      0.96      0.98       468\n",
            "    Mobile Phone       0.00      0.00      0.00        11\n",
            "   Mobile Phones       0.91      1.00      0.95       804\n",
            "             TVs       0.99      0.97      0.98       713\n",
            "Washing Machines       0.95      0.95      0.95       807\n",
            "          fridge       0.00      0.00      0.00        25\n",
            "\n",
            "        accuracy                           0.95      7054\n",
            "       macro avg       0.73      0.73      0.73      7054\n",
            "    weighted avg       0.94      0.95      0.94      7054\n",
            "\n"
          ]
        }
      ]
    },
    {
      "cell_type": "markdown",
      "source": [
        "## 8. Salvarea modelului pentru predicții viitoare"
      ],
      "metadata": {
        "id": "LYx4TsgsWxx7"
      }
    },
    {
      "cell_type": "code",
      "source": [
        "import pickle\n",
        "import os\n",
        "\n",
        "os.makedirs(\"models\", exist_ok=True)\n",
        "\n",
        "with open(\"models/product_category_model.pkl\", \"wb\") as f:\n",
        "    pickle.dump((vectorizer, model), f)\n",
        "\n",
        "print(\" Model salvat în models/product_category_model.pkl\")"
      ],
      "metadata": {
        "colab": {
          "base_uri": "https://localhost:8080/"
        },
        "id": "Gz1EO060W4lP",
        "outputId": "c544a0f1-4b56-481f-d923-6aaee36a3ffb"
      },
      "execution_count": 11,
      "outputs": [
        {
          "output_type": "stream",
          "name": "stdout",
          "text": [
            " Model salvat în models/product_category_model.pkl\n"
          ]
        }
      ]
    },
    {
      "cell_type": "markdown",
      "source": [
        "## 9. Testarea rapida a predictiilor"
      ],
      "metadata": {
        "id": "bxFbT4DmXUNN"
      }
    },
    {
      "cell_type": "code",
      "source": [
        "def predict_category(title):\n",
        "    clean = clean_title(title)\n",
        "    vec = vectorizer.transform([clean])\n",
        "    return model.predict(vec)[0]\n",
        "\n",
        "examples = [\n",
        "    \"iphone 7 32gb gold\",\n",
        "    \"olympus e m10 mark iii geh use silber\",\n",
        "    \"kenwood k20mss15 solo\",\n",
        "    \"bosch serie 4 kgv39vl31g\",\n",
        "    \"smeg sbs8004po\",\n",
        "]\n",
        "\n",
        "for e in examples:\n",
        "    print(f\"{e} → {predict_category(e)}\")"
      ],
      "metadata": {
        "colab": {
          "base_uri": "https://localhost:8080/"
        },
        "id": "c_Fq3ZUFXa8n",
        "outputId": "2b31d759-ce37-410d-ebb4-61ac96062ca2"
      },
      "execution_count": 12,
      "outputs": [
        {
          "output_type": "stream",
          "name": "stdout",
          "text": [
            "iphone 7 32gb gold → Mobile Phones\n",
            "olympus e m10 mark iii geh use silber → Digital Cameras\n",
            "kenwood k20mss15 solo → Microwaves\n",
            "bosch serie 4 kgv39vl31g → Dishwashers\n",
            "smeg sbs8004po → Fridges\n"
          ]
        }
      ]
    }
  ]
}